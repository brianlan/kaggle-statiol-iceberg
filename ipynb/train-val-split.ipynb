{
 "cells": [
  {
   "cell_type": "code",
   "execution_count": 12,
   "metadata": {},
   "outputs": [],
   "source": [
    "import json\n",
    "import numpy as np\n",
    "\n",
    "ori_train_path = '/home/rlan/datasets/statoil-iceberg/train.json'\n",
    "train_save_path = '/home/rlan/datasets/statoil-iceberg/trainval_train.json'\n",
    "val_save_path = '/home/rlan/datasets/statoil-iceberg/trainval_val.json'\n",
    "split_pct = 0.95\n",
    "\n",
    "with open(ori_train_path, 'r') as f:\n",
    "    data = json.load(f)\n",
    "\n",
    "np.random.seed(100)\n",
    "indices = np.random.permutation(list(range(len(data))))\n",
    "split_pos = int(round(len(indices) * split_pct))\n",
    "\n",
    "train, val = [], []\n",
    "for ind in indices[:split_pos]:\n",
    "    train.append(data[ind])\n",
    "\n",
    "for ind in indices[split_pos:]:\n",
    "    val.append(data[ind])\n",
    "\n",
    "with open(train_save_path, 'w') as f:\n",
    "    json.dump(train, f)\n",
    "\n",
    "with open(val_save_path, 'w') as f:\n",
    "    json.dump(val, f)\n"
   ]
  },
  {
   "cell_type": "code",
   "execution_count": 13,
   "metadata": {},
   "outputs": [
    {
     "name": "stdout",
     "output_type": "stream",
     "text": [
      "1524\n",
      "1604\n"
     ]
    }
   ],
   "source": [
    "print(len(train))\n",
    "print(len(data))"
   ]
  },
  {
   "cell_type": "code",
   "execution_count": null,
   "metadata": {
    "collapsed": true
   },
   "outputs": [],
   "source": []
  }
 ],
 "metadata": {
  "kernelspec": {
   "display_name": "Python 3",
   "language": "python",
   "name": "python3"
  },
  "language_info": {
   "codemirror_mode": {
    "name": "ipython",
    "version": 3
   },
   "file_extension": ".py",
   "mimetype": "text/x-python",
   "name": "python",
   "nbconvert_exporter": "python",
   "pygments_lexer": "ipython3",
   "version": "3.6.2"
  }
 },
 "nbformat": 4,
 "nbformat_minor": 2
}
