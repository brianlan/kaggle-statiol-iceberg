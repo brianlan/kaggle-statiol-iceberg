{
 "cells": [
  {
   "cell_type": "markdown",
   "metadata": {},
   "source": [
    "Training\n",
    "==="
   ]
  },
  {
   "cell_type": "code",
   "execution_count": 1,
   "metadata": {},
   "outputs": [
    {
     "name": "stderr",
     "output_type": "stream",
     "text": [
      "/home/rlan/anaconda3/lib/python3.6/importlib/_bootstrap.py:205: RuntimeWarning: compiletime version 3.5 of module 'tensorflow.python.framework.fast_tensor_util' does not match runtime version 3.6\n",
      "  return f(*args, **kwds)\n"
     ]
    }
   ],
   "source": [
    "import sys; sys.path.append('..')\n",
    "import time\n",
    "from math import ceil, floor\n",
    "from os.path import join as opj, dirname\n",
    "\n",
    "import tqdm\n",
    "import torch\n",
    "import numpy as np\n",
    "from torch.utils.data.dataloader import DataLoader\n",
    "from torch.autograd import Variable\n",
    "import torchvision.transforms as T\n",
    "\n",
    "from src.dataset import StatoilIcebergDataset\n",
    "from src.network import Net\n",
    "from src.settings import logger\n",
    "from src.tensorboard_logger import Logger\n",
    "from src.utils import mkdir_r\n",
    "import src.torchsample.transforms as TST"
   ]
  },
  {
   "cell_type": "markdown",
   "metadata": {},
   "source": [
    "## Define Const"
   ]
  },
  {
   "cell_type": "code",
   "execution_count": 2,
   "metadata": {
    "collapsed": true
   },
   "outputs": [],
   "source": [
    "train_data_path = '/home/rlan/datasets/statoil-iceberg/trainval_train.json'\n",
    "val_data_path = '/home/rlan/datasets/statoil-iceberg/trainval_val.json'\n",
    "\n",
    "BASE_DIR = '/home/rlan/projects/kaggle/kaggle-statoil-iceberg'\n",
    "LOG_DIR = opj(BASE_DIR, 'log')\n",
    "CHECKPOINTS_PATH = opj(BASE_DIR, 'checkpoints')\n",
    "MAX_EPOCH = 100\n",
    "BATCH_SIZE = 128"
   ]
  },
  {
   "cell_type": "markdown",
   "metadata": {},
   "source": [
    "## Setup Logger"
   ]
  },
  {
   "cell_type": "code",
   "execution_count": 3,
   "metadata": {},
   "outputs": [
    {
     "name": "stdout",
     "output_type": "stream",
     "text": [
      "model_id: 1515837113\n"
     ]
    }
   ],
   "source": [
    "model_id = str(int(time.time()))\n",
    "print('model_id: %s' % model_id)\n",
    "tb_logger = Logger(opj(LOG_DIR, model_id))"
   ]
  },
  {
   "cell_type": "markdown",
   "metadata": {},
   "source": [
    "## Transform"
   ]
  },
  {
   "cell_type": "code",
   "execution_count": 4,
   "metadata": {
    "collapsed": true
   },
   "outputs": [],
   "source": [
    "transform = T.Compose([T.ToTensor(),\n",
    "                       T.Lambda(lambda x: (x - x.min()) / (x.max() - x.min())),\n",
    "                       T.ToPILImage(),\n",
    "                       T.RandomHorizontalFlip(),\n",
    "                       T.RandomVerticalFlip(),\n",
    "                       # T.ColorJitter(brightness=0.7, contrast=0.5, saturation=0.5),\n",
    "                       T.ToTensor(),\n",
    "                       TST.RandomRotate(5),\n",
    "                       # TST.RandomShear(15),\n",
    "                       T.ToPILImage(),\n",
    "                       T.RandomResizedCrop(size=75, scale=(0.7, 1.0)),\n",
    "                       T.ToTensor(),\n",
    "                       T.Lambda(lambda x: x - 0.5)])\n",
    "\n",
    "val_transform = T.Compose([T.ToTensor(), \n",
    "                           T.Lambda(lambda x: (x - x.min()) / (x.max() - x.min()) - 0.5)])"
   ]
  },
  {
   "cell_type": "markdown",
   "metadata": {},
   "source": [
    "## Dataset"
   ]
  },
  {
   "cell_type": "code",
   "execution_count": 5,
   "metadata": {
    "collapsed": true
   },
   "outputs": [],
   "source": [
    "dataset = StatoilIcebergDataset(train_data_path, transform=transform)\n",
    "loader = DataLoader(dataset, shuffle=True, batch_size=BATCH_SIZE, num_workers=8)\n",
    "\n",
    "valset = StatoilIcebergDataset(val_data_path, transform=val_transform)\n",
    "val_loader = DataLoader(valset, shuffle=False, batch_size=BATCH_SIZE, num_workers=8)"
   ]
  },
  {
   "cell_type": "markdown",
   "metadata": {},
   "source": [
    "## Network"
   ]
  },
  {
   "cell_type": "code",
   "execution_count": 6,
   "metadata": {},
   "outputs": [
    {
     "data": {
      "text/plain": [
       "Net(\n",
       "  (conv1): Conv2d (2, 32, kernel_size=(3, 3), stride=(1, 1), padding=(1, 1))\n",
       "  (conv1_bn): BatchNorm2d(32, eps=1e-05, momentum=0.1, affine=True)\n",
       "  (conv2): Conv2d (32, 32, kernel_size=(3, 3), stride=(1, 1), padding=(1, 1))\n",
       "  (conv2_bn): BatchNorm2d(32, eps=1e-05, momentum=0.1, affine=True)\n",
       "  (conv3): Conv2d (32, 32, kernel_size=(3, 3), stride=(1, 1), padding=(1, 1))\n",
       "  (conv3_bn): BatchNorm2d(32, eps=1e-05, momentum=0.1, affine=True)\n",
       "  (conv4): Conv2d (32, 64, kernel_size=(3, 3), stride=(1, 1), padding=(1, 1))\n",
       "  (conv4_bn): BatchNorm2d(64, eps=1e-05, momentum=0.1, affine=True)\n",
       "  (conv5): Conv2d (64, 64, kernel_size=(3, 3), stride=(1, 1), padding=(1, 1))\n",
       "  (conv5_bn): BatchNorm2d(64, eps=1e-05, momentum=0.1, affine=True)\n",
       "  (conv6): Conv2d (64, 64, kernel_size=(3, 3), stride=(1, 1), padding=(1, 1))\n",
       "  (conv6_bn): BatchNorm2d(64, eps=1e-05, momentum=0.1, affine=True)\n",
       "  (fc1): Linear(in_features=20736, out_features=120)\n",
       "  (fc1_bn): BatchNorm1d(120, eps=1e-05, momentum=0.1, affine=True)\n",
       "  (fc2): Linear(in_features=120, out_features=80)\n",
       "  (fc2_bn): BatchNorm1d(80, eps=1e-05, momentum=0.1, affine=True)\n",
       "  (fc3): Linear(in_features=80, out_features=2)\n",
       ")"
      ]
     },
     "execution_count": 6,
     "metadata": {},
     "output_type": "execute_result"
    }
   ],
   "source": [
    "net = Net(input_channel=2).cuda() if torch.cuda.is_available() else Net(input_channel=2)\n",
    "net.train()"
   ]
  },
  {
   "cell_type": "markdown",
   "metadata": {},
   "source": [
    "## Loss and Optimizer"
   ]
  },
  {
   "cell_type": "code",
   "execution_count": 7,
   "metadata": {
    "collapsed": true
   },
   "outputs": [],
   "source": [
    "optimizer = torch.optim.Adam(net.parameters(), lr=0.005)\n",
    "lr_scheduler = torch.optim.lr_scheduler.ReduceLROnPlateau(optimizer, patience=10)\n",
    "loss_fn = torch.nn.CrossEntropyLoss()"
   ]
  },
  {
   "cell_type": "markdown",
   "metadata": {},
   "source": [
    "## Train"
   ]
  },
  {
   "cell_type": "code",
   "execution_count": 8,
   "metadata": {
    "collapsed": true,
    "scrolled": true
   },
   "outputs": [],
   "source": [
    "# niter_per_epoch = ceil(len(dataset) / BATCH_SIZE)\n",
    "# pbar = tqdm.tqdm(range(niter_per_epoch * MAX_EPOCH))\n",
    "for epoch in range(MAX_EPOCH):\n",
    "    net.train()\n",
    "    train_losses = []\n",
    "    for i_batch, sampled_batch in enumerate(loader):\n",
    "        data, target = sampled_batch\n",
    "\n",
    "        if torch.cuda.is_available():\n",
    "            data, target = Variable(data).cuda(), Variable(target).cuda()\n",
    "        else:\n",
    "            data, target = Variable(data), Variable(target)\n",
    "\n",
    "        optimizer.zero_grad()\n",
    "        pred = net(data)\n",
    "        loss = loss_fn(pred, target)\n",
    "        train_losses.append(loss.data[0])\n",
    "        loss.backward()\n",
    "        optimizer.step()\n",
    "        print('[Epoch: {:d}, lr: {}], Training loss: {:.4f}'.format(epoch, \n",
    "                                                                          optimizer.param_groups[-1]['lr'],\n",
    "                                                                          loss.data[0]))\n",
    "\n",
    "    tb_logger.scalar_summary('train_loss', loss.data[0], epoch + 1)\n",
    "\n",
    "    net.eval()\n",
    "    val_losses = []\n",
    "    for i_batch, sampled_batch in enumerate(val_loader):\n",
    "        data, target = sampled_batch\n",
    "\n",
    "        if torch.cuda.is_available():\n",
    "            data, target = Variable(data).cuda(), Variable(target).cuda()\n",
    "        else:\n",
    "            data, target = Variable(data), Variable(target)\n",
    "        \n",
    "        pred = net(data)\n",
    "        loss = loss_fn(pred, target)\n",
    "        val_losses.append(loss.data[0])\n",
    "    \n",
    "    print('Epoch: {:d}, Validation Loss: {:.4f}'.format(epoch, np.mean(val_losses)))\n",
    "    tb_logger.scalar_summary('val_loss', np.mean(val_losses), epoch + 1)\n",
    "    \n",
    "    lr_scheduler.step(np.mean(val_losses))\n",
    "    \n",
    "    # (2) Log values and gradients of the parameters (histogram)\n",
    "    for tag, value in net.named_parameters():\n",
    "        tag = tag.replace('.', '/')\n",
    "        tb_logger.histo_summary(tag, value.data.cpu().numpy(), epoch + 1)\n",
    "        tb_logger.histo_summary(tag+'/grad', value.grad.data.cpu().numpy(), epoch + 1)\n",
    "\n",
    "    if (epoch + 1) % 100 == 0:\n",
    "        cp_path = opj(CHECKPOINTS_PATH, model_id, 'model_%s' % epoch)\n",
    "        mkdir_r(dirname(cp_path))\n",
    "        torch.save(net.state_dict(), cp_path)\n",
    "    \n"
   ]
  },
  {
   "cell_type": "code",
   "execution_count": null,
   "metadata": {
    "collapsed": true
   },
   "outputs": [],
   "source": []
  }
 ],
 "metadata": {
  "kernelspec": {
   "display_name": "Python 3",
   "language": "python",
   "name": "python3"
  },
  "language_info": {
   "codemirror_mode": {
    "name": "ipython",
    "version": 3
   },
   "file_extension": ".py",
   "mimetype": "text/x-python",
   "name": "python",
   "nbconvert_exporter": "python",
   "pygments_lexer": "ipython3",
   "version": "3.6.2"
  }
 },
 "nbformat": 4,
 "nbformat_minor": 2
}
